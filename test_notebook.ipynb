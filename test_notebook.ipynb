{
 "cells": [
  {
   "cell_type": "code",
   "execution_count": 1,
   "id": "cd7583b4",
   "metadata": {},
   "outputs": [],
   "source": [
    "from run_seq2seq_demo import *"
   ]
  },
  {
   "cell_type": "code",
   "execution_count": 4,
   "id": "eff2ce57",
   "metadata": {},
   "outputs": [
    {
     "name": "stdout",
     "output_type": "stream",
     "text": [
      "WARNING:tensorflow:No training configuration found in the save file, so the model was *not* compiled. Compile it manually.\n",
      "WARNING:tensorflow:No training configuration found in the save file, so the model was *not* compiled. Compile it manually.\n",
      "WARNING:tensorflow:No training configuration found in the save file, so the model was *not* compiled. Compile it manually.\n",
      "WARNING:tensorflow:No training configuration found in the save file, so the model was *not* compiled. Compile it manually.\n",
      "Agent 1 initial knowledge below:\n",
      "\n",
      "~A\n",
      "\n",
      "(C ==> B)\n",
      "\n",
      "\n",
      "Agent 2 initial knowledge below:\n",
      "\n",
      "(B ==> A)\n",
      "\n",
      "\n",
      "Asking agent 1 this question: 'What is C ?'\n",
      "\n",
      "Agent 1 response: Unknown HELP!\n",
      "\n",
      "Agent 1 is asking for help.\n",
      "\n",
      "Agent 2 has answered - adding knowledge to agent 1\n",
      "\n",
      "Telling Agent 1: (B ==> A)\n",
      "\n",
      "Asking agent 1 the same question again\n",
      "\n",
      "Agent 1 answer: False\n",
      "\n"
     ]
    }
   ],
   "source": [
    "run_dual_agent_demo(agent_1_initial_knowledge_list = ['~A', 'C ==> B'],\n",
    "                        agent_2_initial_knowledge_list = ['B ==> A',],\n",
    "                        question_for_agent_1 = 'What is C ?')"
   ]
  },
  {
   "cell_type": "code",
   "execution_count": null,
   "id": "d0fef436",
   "metadata": {},
   "outputs": [],
   "source": []
  }
 ],
 "metadata": {
  "kernelspec": {
   "display_name": "Python 3 (ipykernel)",
   "language": "python",
   "name": "python3"
  },
  "language_info": {
   "codemirror_mode": {
    "name": "ipython",
    "version": 3
   },
   "file_extension": ".py",
   "mimetype": "text/x-python",
   "name": "python",
   "nbconvert_exporter": "python",
   "pygments_lexer": "ipython3",
   "version": "3.7.11"
  }
 },
 "nbformat": 4,
 "nbformat_minor": 5
}
